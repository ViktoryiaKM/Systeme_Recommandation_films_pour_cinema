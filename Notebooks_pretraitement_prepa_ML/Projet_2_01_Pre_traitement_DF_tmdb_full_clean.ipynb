{
  "cells": [
    {
      "cell_type": "markdown",
      "id": "cd3aa667",
      "metadata": {
        "id": "cd3aa667"
      },
      "source": [
        "# Pré-traitement sur Dataset DF_tmdb_full\n",
        "\n",
        "###**Objectif**\n",
        "Nettoyer et préparer les données de Dataset `DF_tmdb_full` pour qu'elles soient prêtes à l’analyse.\n",
        "\n",
        "###**Recap Pré-traitement réalisé sur ce DF:**\n",
        "\n",
        "- on garde que la durée \"runtimeMinutes\"> 40\n",
        "- on garde que les filmes déjà sortis : colonne \"Status\" filtre sur = \"Released\"\n",
        "- on supprime les film pour Adultes (garde que les \"isAdult\" = 0)\n",
        "- on remplace les valeurs \\N par NaN\n",
        "- on Nettoye chaque valeur de la colonne \"genre\",\"production_companies_name\", \"spoken spoken_languages\"\n",
        "- on Supprime la colonne \"video\"car 98% sont sans video\n"
      ]
    },
    {
      "cell_type": "code",
      "execution_count": null,
      "id": "6cebc926",
      "metadata": {
        "id": "6cebc926",
        "outputId": "e783cd32-882c-4450-f3ce-69c22edd249a"
      },
      "outputs": [
        {
          "name": "stdout",
          "output_type": "stream",
          "text": [
            "Requirement already satisfied: gdown in c:\\users\\vika_\\anaconda3\\lib\\site-packages (5.2.0)\n",
            "Requirement already satisfied: beautifulsoup4 in c:\\users\\vika_\\anaconda3\\lib\\site-packages (from gdown) (4.12.2)\n",
            "Requirement already satisfied: filelock in c:\\users\\vika_\\anaconda3\\lib\\site-packages (from gdown) (3.9.0)\n",
            "Requirement already satisfied: requests[socks] in c:\\users\\vika_\\anaconda3\\lib\\site-packages (from gdown) (2.31.0)\n",
            "Requirement already satisfied: tqdm in c:\\users\\vika_\\anaconda3\\lib\\site-packages (from gdown) (4.65.0)\n",
            "Requirement already satisfied: soupsieve>1.2 in c:\\users\\vika_\\anaconda3\\lib\\site-packages (from beautifulsoup4->gdown) (2.4)\n",
            "Requirement already satisfied: charset-normalizer<4,>=2 in c:\\users\\vika_\\anaconda3\\lib\\site-packages (from requests[socks]->gdown) (2.0.4)\n",
            "Requirement already satisfied: idna<4,>=2.5 in c:\\users\\vika_\\anaconda3\\lib\\site-packages (from requests[socks]->gdown) (3.4)\n",
            "Requirement already satisfied: urllib3<3,>=1.21.1 in c:\\users\\vika_\\anaconda3\\lib\\site-packages (from requests[socks]->gdown) (1.26.16)\n",
            "Requirement already satisfied: certifi>=2017.4.17 in c:\\users\\vika_\\anaconda3\\lib\\site-packages (from requests[socks]->gdown) (2023.7.22)\n",
            "Requirement already satisfied: PySocks!=1.5.7,>=1.5.6 in c:\\users\\vika_\\anaconda3\\lib\\site-packages (from requests[socks]->gdown) (1.7.1)\n",
            "Requirement already satisfied: colorama in c:\\users\\vika_\\anaconda3\\lib\\site-packages (from tqdm->gdown) (0.4.6)\n",
            "Note: you may need to restart the kernel to use updated packages.\n"
          ]
        }
      ],
      "source": [
        "pip install gdown"
      ]
    },
    {
      "cell_type": "markdown",
      "source": [
        "## 1️⃣ Chargement des bibliothèques et du DataFrame"
      ],
      "metadata": {
        "id": "ek_QrQkVd1Cc"
      },
      "id": "ek_QrQkVd1Cc"
    },
    {
      "cell_type": "code",
      "execution_count": null,
      "id": "0114fc70",
      "metadata": {
        "id": "0114fc70"
      },
      "outputs": [],
      "source": [
        "import pandas as pd\n",
        "import numpy as np\n",
        "import datetime as dt"
      ]
    },
    {
      "cell_type": "code",
      "execution_count": null,
      "id": "0d464a22",
      "metadata": {
        "id": "0d464a22",
        "outputId": "d7df7a39-39ba-401e-a81f-5ba951bcc99c"
      },
      "outputs": [
        {
          "name": "stderr",
          "output_type": "stream",
          "text": [
            "Downloading...\n",
            "From (original): https://drive.google.com/uc?id=1VB5_gl1fnyBDzcIOXZ5vUSbCY68VZN1v\n",
            "From (redirected): https://drive.google.com/uc?id=1VB5_gl1fnyBDzcIOXZ5vUSbCY68VZN1v&confirm=t&uuid=7659fc48-b6be-462f-a430-bcc12dff29f2\n",
            "To: C:\\Users\\vika_\\Projet_2\\tmdb_full.csv\n",
            "100%|██████████| 157M/157M [00:16<00:00, 9.67MB/s] \n",
            "C:\\Users\\vika_\\AppData\\Local\\Temp\\ipykernel_7228\\2544475243.py:10: DtypeWarning: Columns (24) have mixed types. Specify dtype option on import or set low_memory=False.\n",
            "  df_tmdb = pd.read_csv(output)\n"
          ]
        }
      ],
      "source": [
        "# gdown bibliothèque Python qui permet de télécharger des fichiers à partir de Google Drive\n",
        "import gdown\n",
        "import pandas as pd\n",
        "# URL du fichier CSV sur Google Drive\n",
        "url = 'https://drive.google.com/uc?id=1VB5_gl1fnyBDzcIOXZ5vUSbCY68VZN1v'\n",
        "# Télécharger le fichier\n",
        "output = 'tmdb_full.csv'\n",
        "gdown.download(url, output, quiet=False)\n",
        "# Lire le fichier CSV\n",
        "df_tmdb = pd.read_csv(output)"
      ]
    },
    {
      "cell_type": "markdown",
      "source": [
        "## 2️⃣ Compréhension des données brutes\n",
        "- Aperçu des colonnes (`df.info()`, `df.head()`)\n",
        "- Description rapide : dimensions, types, aperçu des valeurs"
      ],
      "metadata": {
        "id": "OYgqrUo5d6Wb"
      },
      "id": "OYgqrUo5d6Wb"
    },
    {
      "cell_type": "code",
      "execution_count": null,
      "id": "094dd81d",
      "metadata": {
        "id": "094dd81d",
        "outputId": "2a7fc413-2719-4460-f755-2c200325f432"
      },
      "outputs": [
        {
          "data": {
            "text/plain": [
              "(309572, 25)"
            ]
          },
          "execution_count": 152,
          "metadata": {},
          "output_type": "execute_result"
        }
      ],
      "source": [
        "df_tmdb.shape"
      ]
    },
    {
      "cell_type": "code",
      "execution_count": null,
      "id": "6e14e171",
      "metadata": {
        "id": "6e14e171",
        "outputId": "60addec4-7916-4b38-c4cc-572becb557e7"
      },
      "outputs": [
        {
          "name": "stdout",
          "output_type": "stream",
          "text": [
            "<class 'pandas.core.frame.DataFrame'>\n",
            "RangeIndex: 309572 entries, 0 to 309571\n",
            "Data columns (total 25 columns):\n",
            " #   Column                        Non-Null Count   Dtype  \n",
            "---  ------                        --------------   -----  \n",
            " 0   adult                         309572 non-null  bool   \n",
            " 1   backdrop_path                 151760 non-null  object \n",
            " 2   budget                        309572 non-null  int64  \n",
            " 3   genres                        309572 non-null  object \n",
            " 4   homepage                      44262 non-null   object \n",
            " 5   id                            309572 non-null  int64  \n",
            " 6   imdb_id                       309572 non-null  object \n",
            " 7   original_language             309572 non-null  object \n",
            " 8   original_title                309572 non-null  object \n",
            " 9   overview                      282512 non-null  object \n",
            " 10  popularity                    309572 non-null  float64\n",
            " 11  poster_path                   264159 non-null  object \n",
            " 12  production_countries          309572 non-null  object \n",
            " 13  release_date                  301339 non-null  object \n",
            " 14  revenue                       309572 non-null  int64  \n",
            " 15  runtime                       309572 non-null  int64  \n",
            " 16  spoken_languages              309572 non-null  object \n",
            " 17  status                        309572 non-null  object \n",
            " 18  tagline                       74573 non-null   object \n",
            " 19  title                         309572 non-null  object \n",
            " 20  video                         309572 non-null  bool   \n",
            " 21  vote_average                  309572 non-null  float64\n",
            " 22  vote_count                    309572 non-null  int64  \n",
            " 23  production_companies_name     309572 non-null  object \n",
            " 24  production_companies_country  164438 non-null  object \n",
            "dtypes: bool(2), float64(2), int64(5), object(16)\n",
            "memory usage: 54.9+ MB\n"
          ]
        }
      ],
      "source": [
        "df_tmdb.info()"
      ]
    },
    {
      "cell_type": "code",
      "execution_count": null,
      "id": "f9426a71",
      "metadata": {
        "id": "f9426a71",
        "outputId": "be405839-8613-49e8-a071-79ab0f36a4c4"
      },
      "outputs": [
        {
          "data": {
            "text/html": [
              "<div>\n",
              "<style scoped>\n",
              "    .dataframe tbody tr th:only-of-type {\n",
              "        vertical-align: middle;\n",
              "    }\n",
              "\n",
              "    .dataframe tbody tr th {\n",
              "        vertical-align: top;\n",
              "    }\n",
              "\n",
              "    .dataframe thead th {\n",
              "        text-align: right;\n",
              "    }\n",
              "</style>\n",
              "<table border=\"1\" class=\"dataframe\">\n",
              "  <thead>\n",
              "    <tr style=\"text-align: right;\">\n",
              "      <th></th>\n",
              "      <th>adult</th>\n",
              "      <th>backdrop_path</th>\n",
              "      <th>budget</th>\n",
              "      <th>genres</th>\n",
              "      <th>homepage</th>\n",
              "      <th>id</th>\n",
              "      <th>imdb_id</th>\n",
              "      <th>original_language</th>\n",
              "      <th>original_title</th>\n",
              "      <th>overview</th>\n",
              "      <th>...</th>\n",
              "      <th>runtime</th>\n",
              "      <th>spoken_languages</th>\n",
              "      <th>status</th>\n",
              "      <th>tagline</th>\n",
              "      <th>title</th>\n",
              "      <th>video</th>\n",
              "      <th>vote_average</th>\n",
              "      <th>vote_count</th>\n",
              "      <th>production_companies_name</th>\n",
              "      <th>production_companies_country</th>\n",
              "    </tr>\n",
              "  </thead>\n",
              "  <tbody>\n",
              "    <tr>\n",
              "      <th>0</th>\n",
              "      <td>False</td>\n",
              "      <td>/dvQj1GBZAZirz1skEEZyWH2ZqQP.jpg</td>\n",
              "      <td>0</td>\n",
              "      <td>['Comedy']</td>\n",
              "      <td>NaN</td>\n",
              "      <td>3924</td>\n",
              "      <td>tt0029927</td>\n",
              "      <td>en</td>\n",
              "      <td>Blondie</td>\n",
              "      <td>Blondie and Dagwood are about to celebrate the...</td>\n",
              "      <td>...</td>\n",
              "      <td>70</td>\n",
              "      <td>['en']</td>\n",
              "      <td>Released</td>\n",
              "      <td>The favorite comic strip of millions at last o...</td>\n",
              "      <td>Blondie</td>\n",
              "      <td>False</td>\n",
              "      <td>7.214</td>\n",
              "      <td>7</td>\n",
              "      <td>['Columbia Pictures']</td>\n",
              "      <td>['US']</td>\n",
              "    </tr>\n",
              "    <tr>\n",
              "      <th>1</th>\n",
              "      <td>False</td>\n",
              "      <td>NaN</td>\n",
              "      <td>0</td>\n",
              "      <td>['Adventure']</td>\n",
              "      <td>NaN</td>\n",
              "      <td>6124</td>\n",
              "      <td>tt0011436</td>\n",
              "      <td>de</td>\n",
              "      <td>Der Mann ohne Namen</td>\n",
              "      <td>NaN</td>\n",
              "      <td>...</td>\n",
              "      <td>420</td>\n",
              "      <td>[]</td>\n",
              "      <td>Released</td>\n",
              "      <td>NaN</td>\n",
              "      <td>Peter Voss, Thief of Millions</td>\n",
              "      <td>False</td>\n",
              "      <td>0.000</td>\n",
              "      <td>0</td>\n",
              "      <td>[]</td>\n",
              "      <td>[]</td>\n",
              "    </tr>\n",
              "    <tr>\n",
              "      <th>2</th>\n",
              "      <td>False</td>\n",
              "      <td>/uJlc4aNPF3Y8yAqahJTKBwgwPVW.jpg</td>\n",
              "      <td>0</td>\n",
              "      <td>['Drama', 'Romance']</td>\n",
              "      <td>NaN</td>\n",
              "      <td>8773</td>\n",
              "      <td>tt0055747</td>\n",
              "      <td>fr</td>\n",
              "      <td>L'Amour à vingt ans</td>\n",
              "      <td>Love at Twenty unites five directors from five...</td>\n",
              "      <td>...</td>\n",
              "      <td>110</td>\n",
              "      <td>['it', 'ja', 'pl', 'fr', 'de']</td>\n",
              "      <td>Released</td>\n",
              "      <td>The Intimate Secrets of Young Lovers</td>\n",
              "      <td>Love at Twenty</td>\n",
              "      <td>False</td>\n",
              "      <td>6.700</td>\n",
              "      <td>41</td>\n",
              "      <td>['Ulysse Productions', 'Unitec Films', 'Cinese...</td>\n",
              "      <td>['', 'NZ', 'IT', 'JP', 'DE', 'PL', '']</td>\n",
              "    </tr>\n",
              "    <tr>\n",
              "      <th>3</th>\n",
              "      <td>False</td>\n",
              "      <td>/hQ4pYsIbP22TMXOUdSfC2mjWrO0.jpg</td>\n",
              "      <td>0</td>\n",
              "      <td>['Drama', 'Comedy', 'Crime']</td>\n",
              "      <td>NaN</td>\n",
              "      <td>2</td>\n",
              "      <td>tt0094675</td>\n",
              "      <td>fi</td>\n",
              "      <td>Ariel</td>\n",
              "      <td>Taisto Kasurinen is a Finnish coal miner whose...</td>\n",
              "      <td>...</td>\n",
              "      <td>73</td>\n",
              "      <td>['fi']</td>\n",
              "      <td>Released</td>\n",
              "      <td>NaN</td>\n",
              "      <td>Ariel</td>\n",
              "      <td>False</td>\n",
              "      <td>7.046</td>\n",
              "      <td>248</td>\n",
              "      <td>['Villealfa Filmproductions']</td>\n",
              "      <td>['FI']</td>\n",
              "    </tr>\n",
              "    <tr>\n",
              "      <th>4</th>\n",
              "      <td>False</td>\n",
              "      <td>/l94l89eMmFKh7na2a1u5q67VgNx.jpg</td>\n",
              "      <td>0</td>\n",
              "      <td>['Drama', 'Comedy', 'Romance']</td>\n",
              "      <td>NaN</td>\n",
              "      <td>3</td>\n",
              "      <td>tt0092149</td>\n",
              "      <td>fi</td>\n",
              "      <td>Varjoja paratiisissa</td>\n",
              "      <td>An episode in the life of Nikander, a garbage ...</td>\n",
              "      <td>...</td>\n",
              "      <td>76</td>\n",
              "      <td>['en']</td>\n",
              "      <td>Released</td>\n",
              "      <td>NaN</td>\n",
              "      <td>Shadows in Paradise</td>\n",
              "      <td>False</td>\n",
              "      <td>7.182</td>\n",
              "      <td>269</td>\n",
              "      <td>['Villealfa Filmproductions']</td>\n",
              "      <td>['FI']</td>\n",
              "    </tr>\n",
              "  </tbody>\n",
              "</table>\n",
              "<p>5 rows × 25 columns</p>\n",
              "</div>"
            ],
            "text/plain": [
              "   adult                     backdrop_path  budget  \\\n",
              "0  False  /dvQj1GBZAZirz1skEEZyWH2ZqQP.jpg       0   \n",
              "1  False                               NaN       0   \n",
              "2  False  /uJlc4aNPF3Y8yAqahJTKBwgwPVW.jpg       0   \n",
              "3  False  /hQ4pYsIbP22TMXOUdSfC2mjWrO0.jpg       0   \n",
              "4  False  /l94l89eMmFKh7na2a1u5q67VgNx.jpg       0   \n",
              "\n",
              "                           genres homepage    id    imdb_id original_language  \\\n",
              "0                      ['Comedy']      NaN  3924  tt0029927                en   \n",
              "1                   ['Adventure']      NaN  6124  tt0011436                de   \n",
              "2            ['Drama', 'Romance']      NaN  8773  tt0055747                fr   \n",
              "3    ['Drama', 'Comedy', 'Crime']      NaN     2  tt0094675                fi   \n",
              "4  ['Drama', 'Comedy', 'Romance']      NaN     3  tt0092149                fi   \n",
              "\n",
              "         original_title                                           overview  \\\n",
              "0               Blondie  Blondie and Dagwood are about to celebrate the...   \n",
              "1   Der Mann ohne Namen                                                NaN   \n",
              "2   L'Amour à vingt ans  Love at Twenty unites five directors from five...   \n",
              "3                 Ariel  Taisto Kasurinen is a Finnish coal miner whose...   \n",
              "4  Varjoja paratiisissa  An episode in the life of Nikander, a garbage ...   \n",
              "\n",
              "   ...  runtime                spoken_languages    status  \\\n",
              "0  ...       70                          ['en']  Released   \n",
              "1  ...      420                              []  Released   \n",
              "2  ...      110  ['it', 'ja', 'pl', 'fr', 'de']  Released   \n",
              "3  ...       73                          ['fi']  Released   \n",
              "4  ...       76                          ['en']  Released   \n",
              "\n",
              "                                             tagline  \\\n",
              "0  The favorite comic strip of millions at last o...   \n",
              "1                                                NaN   \n",
              "2               The Intimate Secrets of Young Lovers   \n",
              "3                                                NaN   \n",
              "4                                                NaN   \n",
              "\n",
              "                           title  video vote_average vote_count  \\\n",
              "0                        Blondie  False        7.214          7   \n",
              "1  Peter Voss, Thief of Millions  False        0.000          0   \n",
              "2                 Love at Twenty  False        6.700         41   \n",
              "3                          Ariel  False        7.046        248   \n",
              "4            Shadows in Paradise  False        7.182        269   \n",
              "\n",
              "                           production_companies_name  \\\n",
              "0                              ['Columbia Pictures']   \n",
              "1                                                 []   \n",
              "2  ['Ulysse Productions', 'Unitec Films', 'Cinese...   \n",
              "3                      ['Villealfa Filmproductions']   \n",
              "4                      ['Villealfa Filmproductions']   \n",
              "\n",
              "             production_companies_country  \n",
              "0                                  ['US']  \n",
              "1                                      []  \n",
              "2  ['', 'NZ', 'IT', 'JP', 'DE', 'PL', '']  \n",
              "3                                  ['FI']  \n",
              "4                                  ['FI']  \n",
              "\n",
              "[5 rows x 25 columns]"
            ]
          },
          "execution_count": 154,
          "metadata": {},
          "output_type": "execute_result"
        }
      ],
      "source": [
        "df_tmdb.head(5)"
      ]
    },
    {
      "cell_type": "markdown",
      "source": [
        "## 3️⃣ Filtrage des données non pertinentes"
      ],
      "metadata": {
        "id": "hULz92scecO-"
      },
      "id": "hULz92scecO-"
    },
    {
      "cell_type": "code",
      "execution_count": null,
      "id": "4001af46",
      "metadata": {
        "id": "4001af46"
      },
      "outputs": [],
      "source": [
        "# On selectionne les filmes donts la durée est > à 40 min:\n",
        "df_tmdb = df_tmdb[df_tmdb['runtime'] > 40]"
      ]
    },
    {
      "cell_type": "code",
      "execution_count": null,
      "id": "d38b3d40",
      "metadata": {
        "id": "d38b3d40",
        "outputId": "4c1f2c68-1062-41b2-ad33-88ae55a0b033"
      },
      "outputs": [
        {
          "data": {
            "text/plain": [
              "(221698, 25)"
            ]
          },
          "execution_count": 156,
          "metadata": {},
          "output_type": "execute_result"
        }
      ],
      "source": [
        "df_tmdb.shape"
      ]
    },
    {
      "cell_type": "code",
      "execution_count": null,
      "id": "e14cbf67",
      "metadata": {
        "id": "e14cbf67",
        "outputId": "4e822553-9090-4570-f8b4-8554011ff211"
      },
      "outputs": [
        {
          "data": {
            "text/plain": [
              "video\n",
              "False    98.117259\n",
              "True      1.882741\n",
              "Name: proportion, dtype: float64"
            ]
          },
          "execution_count": 157,
          "metadata": {},
          "output_type": "execute_result"
        }
      ],
      "source": [
        "df_tmdb['video'].value_counts(normalize=True) * 100\n",
        "# => à supprimer car 98% sont sans video"
      ]
    },
    {
      "cell_type": "code",
      "execution_count": null,
      "id": "c545cdb7",
      "metadata": {
        "id": "c545cdb7",
        "outputId": "b63dcef2-4398-4b87-dfac-6b021acecfce"
      },
      "outputs": [
        {
          "data": {
            "text/plain": [
              "status\n",
              "Released           99.773566\n",
              "Post Production     0.148400\n",
              "In Production       0.067209\n",
              "Planned             0.009472\n",
              "Canceled            0.000902\n",
              "Rumored             0.000451\n",
              "Name: proportion, dtype: float64"
            ]
          },
          "execution_count": 158,
          "metadata": {},
          "output_type": "execute_result"
        }
      ],
      "source": [
        "df_tmdb['status'].value_counts(normalize=True) * 100\n",
        "# => à filtrer sur les filmes déjà sortis : \"Released\""
      ]
    },
    {
      "cell_type": "code",
      "execution_count": null,
      "id": "25c45e70",
      "metadata": {
        "id": "25c45e70"
      },
      "outputs": [],
      "source": [
        "df_tmdb = df_tmdb[df_tmdb['status'] == \"Released\"]"
      ]
    },
    {
      "cell_type": "code",
      "execution_count": null,
      "id": "c005e24f",
      "metadata": {
        "id": "c005e24f"
      },
      "outputs": [],
      "source": [
        "df_tmdb = df_tmdb[df_tmdb['adult'] !=True]"
      ]
    },
    {
      "cell_type": "code",
      "execution_count": null,
      "id": "6665fa9f",
      "metadata": {
        "id": "6665fa9f",
        "outputId": "d6e42249-7bf4-4458-c251-52777fa58088"
      },
      "outputs": [
        {
          "data": {
            "text/plain": [
              "(221195, 25)"
            ]
          },
          "execution_count": 161,
          "metadata": {},
          "output_type": "execute_result"
        }
      ],
      "source": [
        "df_tmdb.shape"
      ]
    },
    {
      "cell_type": "markdown",
      "source": [
        "## 4️⃣ Nettoyage des colonnes spécifiques"
      ],
      "metadata": {
        "id": "GNAjZRXDfX66"
      },
      "id": "GNAjZRXDfX66"
    },
    {
      "cell_type": "code",
      "execution_count": null,
      "id": "1b7e2991",
      "metadata": {
        "id": "1b7e2991"
      },
      "outputs": [],
      "source": [
        "# Nettoyer chaque valeur de la colonne \"genre\":\n",
        "def nettoyer_genres(genres):\n",
        "      genre_str1 = genres.strip(\"[]'\")                                                             # Supprimer les crochets\n",
        "      genre_str2 = genre_str1.replace(\"'\", \"\")                                                     # Supprimer les apostrophes\n",
        "      return genre_str2\n",
        "\n",
        "df_tmdb.loc[:, 'genres'] = df_tmdb['genres'].apply(nettoyer_genres)"
      ]
    },
    {
      "cell_type": "code",
      "execution_count": null,
      "id": "a8f7103f",
      "metadata": {
        "scrolled": false,
        "id": "a8f7103f"
      },
      "outputs": [],
      "source": [
        "# Nettoyer chaque valeur de la colonne \"production_companies_name\":\n",
        "def nettoyer_production_companies_name(production_companies_name):\n",
        "      production_companies_name_str1 = production_companies_name.strip(\"[]'\")                      # Supprimer les crochets\n",
        "      production_companies_name_str2 = production_companies_name_str1.replace(\"'\", \"\")             # Supprimer les apostrophes\n",
        "      return production_companies_name_str2\n",
        "\n",
        "df_tmdb.loc[:, 'production_companies_name'] = df_tmdb['production_companies_name'].apply(nettoyer_production_companies_name)"
      ]
    },
    {
      "cell_type": "code",
      "execution_count": null,
      "id": "d12e3274",
      "metadata": {
        "scrolled": true,
        "id": "d12e3274"
      },
      "outputs": [],
      "source": [
        "# Nettoyer chaque valeur de la colonne \"spoken_languages\":\n",
        "def nettoyer_spoken_languages(spoken_languages):\n",
        "      spoken_languages_str1 = spoken_languages.strip(\"[]'\")                                        # Supprimer les crochets\n",
        "      spoken_languages_str2 = spoken_languages_str1.replace(\"'\", \"\")                               # Supprimer les apostrophes\n",
        "      return spoken_languages_str2\n",
        "\n",
        "df_tmdb.loc[:,'spoken_languages'] = df_tmdb['spoken_languages'].apply(nettoyer_spoken_languages)"
      ]
    },
    {
      "cell_type": "code",
      "execution_count": null,
      "id": "e9ebef0e",
      "metadata": {
        "id": "e9ebef0e",
        "outputId": "ba40695f-596c-481b-d3b8-fae7783e791c"
      },
      "outputs": [
        {
          "data": {
            "text/plain": [
              "adult                                0\n",
              "backdrop_path                    92512\n",
              "budget                               0\n",
              "genres                               0\n",
              "homepage                        185548\n",
              "id                                   0\n",
              "imdb_id                              0\n",
              "original_language                    0\n",
              "original_title                       0\n",
              "overview                          6621\n",
              "popularity                           0\n",
              "poster_path                      18684\n",
              "production_countries                 0\n",
              "release_date                      1539\n",
              "revenue                              0\n",
              "runtime                              0\n",
              "spoken_languages                     0\n",
              "status                               0\n",
              "tagline                         153911\n",
              "title                                0\n",
              "video                                0\n",
              "vote_average                         0\n",
              "vote_count                           0\n",
              "production_companies_name            0\n",
              "production_companies_country    114547\n",
              "dtype: int64"
            ]
          },
          "execution_count": 165,
          "metadata": {},
          "output_type": "execute_result"
        }
      ],
      "source": [
        "df_tmdb.isna().sum()"
      ]
    },
    {
      "cell_type": "markdown",
      "source": [
        "## 5️⃣ Suppression des colonnes inutiles"
      ],
      "metadata": {
        "id": "6QEznPlZfpCv"
      },
      "id": "6QEznPlZfpCv"
    },
    {
      "cell_type": "code",
      "execution_count": null,
      "id": "a5eaa78e",
      "metadata": {
        "id": "a5eaa78e"
      },
      "outputs": [],
      "source": [
        "# Supprimer la colonnes \"video\" et 'status'\n",
        "df_tmdb = df_tmdb.drop(['video','status','adult'], axis=1)"
      ]
    },
    {
      "cell_type": "code",
      "execution_count": null,
      "id": "31f6d0cc",
      "metadata": {
        "id": "31f6d0cc",
        "outputId": "47f816ba-35f6-4591-f285-4e04bbf1a7b7"
      },
      "outputs": [
        {
          "data": {
            "text/plain": [
              "(221195, 22)"
            ]
          },
          "execution_count": 169,
          "metadata": {},
          "output_type": "execute_result"
        }
      ],
      "source": [
        "# Dimensions du DataFrame final\n",
        "df_tmdb.shape"
      ]
    },
    {
      "cell_type": "code",
      "execution_count": null,
      "id": "89613c74",
      "metadata": {
        "id": "89613c74"
      },
      "outputs": [],
      "source": [
        "df_tmdb_full_clean = df_tmdb"
      ]
    },
    {
      "cell_type": "markdown",
      "source": [
        "## Export (optionnel) : Enregistrement du DataFrame nettoyé"
      ],
      "metadata": {
        "id": "0vYomtk3gAxb"
      },
      "id": "0vYomtk3gAxb"
    },
    {
      "cell_type": "code",
      "execution_count": null,
      "id": "09bbd1f3",
      "metadata": {
        "id": "09bbd1f3"
      },
      "outputs": [],
      "source": [
        "df_tmdb_full_clean.to_csv(\"df_tmdb_full_clean.csv\")"
      ]
    }
  ],
  "metadata": {
    "kernelspec": {
      "display_name": "Python 3 (ipykernel)",
      "language": "python",
      "name": "python3"
    },
    "language_info": {
      "codemirror_mode": {
        "name": "ipython",
        "version": 3
      },
      "file_extension": ".py",
      "mimetype": "text/x-python",
      "name": "python",
      "nbconvert_exporter": "python",
      "pygments_lexer": "ipython3",
      "version": "3.11.5"
    },
    "colab": {
      "provenance": []
    }
  },
  "nbformat": 4,
  "nbformat_minor": 5
}