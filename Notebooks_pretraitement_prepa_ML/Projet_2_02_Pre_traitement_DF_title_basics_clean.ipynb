{
  "cells": [
    {
      "cell_type": "markdown",
      "metadata": {
        "id": "9klufn-VPsIb"
      },
      "source": [
        "# **Pré-traitement sur DF_title_basics_clean**\n",
        "\n",
        "# Objectif\n",
        "Nettoyer et préparer les données de Dataset DF_title_basics pour qu'elles soient prêtes à l’analyse.\n",
        "\n",
        "# Recap Traitement réalisé sur ce DF:\n",
        "- on garde que les \"movie\"\n",
        "- on garde que les \"isAdult\" = 0\n",
        "- on garde que la durée \"runtimeMinutes\"> 40\n",
        "- on remplacer les valeurs \\N par NaN\n",
        "- on supprime les films pour adultes\n",
        "- on Supprime la colonne EndYear, isAdult\n",
        "- pour les films où le genre n'est pas renseigné : indiquer genre 'divers'\n",
        "- on supprime les lignes restantes avec les valeurs manquantes"
      ]
    },
    {
      "cell_type": "markdown",
      "source": [
        "## 1️⃣ Chargement des bibliothèques et du DataFrame"
      ],
      "metadata": {
        "id": "v9kMM32ghkNu"
      }
    },
    {
      "cell_type": "code",
      "execution_count": null,
      "metadata": {
        "id": "dih1GrcbTG5r"
      },
      "outputs": [],
      "source": [
        "import plotly.express as px\n",
        "import seaborn as sns\n",
        "import matplotlib.pyplot as plt\n",
        "import pandas as pd\n",
        "import numpy as np\n"
      ]
    },
    {
      "cell_type": "code",
      "execution_count": null,
      "metadata": {
        "colab": {
          "base_uri": "https://localhost:8080/"
        },
        "id": "RuNj6xOgAsao",
        "outputId": "ca43629a-17bc-4bf2-acac-4c986555803b"
      },
      "outputs": [
        {
          "data": {
            "text/plain": [
              "(10790736, 9)"
            ]
          },
          "execution_count": 59,
          "metadata": {},
          "output_type": "execute_result"
        }
      ],
      "source": [
        "df_title_basics = pd.read_csv(\"https://datasets.imdbws.com/title.basics.tsv.gz\", sep='\\t',low_memory=False)\n",
        "df_title_basics.shape"
      ]
    },
    {
      "cell_type": "markdown",
      "source": [
        "## 2️⃣ Exploration initiale du DataFrame\n",
        "- Aperçu des colonnes (`df.info()`, `df.head()`)\n",
        "- Description rapide : dimensions, types, aperçu des valeurs"
      ],
      "metadata": {
        "id": "Ev_t6qaZiGlW"
      }
    },
    {
      "cell_type": "code",
      "execution_count": null,
      "metadata": {
        "colab": {
          "base_uri": "https://localhost:8080/"
        },
        "id": "sD3PMCZuPK2R",
        "outputId": "8c8ef6dd-35e6-4ac6-b1f5-db151a425d01"
      },
      "outputs": [
        {
          "name": "stdout",
          "output_type": "stream",
          "text": [
            "<class 'pandas.core.frame.DataFrame'>\n",
            "RangeIndex: 10790736 entries, 0 to 10790735\n",
            "Data columns (total 9 columns):\n",
            " #   Column          Dtype \n",
            "---  ------          ----- \n",
            " 0   tconst          object\n",
            " 1   titleType       object\n",
            " 2   primaryTitle    object\n",
            " 3   originalTitle   object\n",
            " 4   isAdult         object\n",
            " 5   startYear       object\n",
            " 6   endYear         object\n",
            " 7   runtimeMinutes  object\n",
            " 8   genres          object\n",
            "dtypes: object(9)\n",
            "memory usage: 740.9+ MB\n"
          ]
        }
      ],
      "source": [
        "df_title_basics.info()"
      ]
    },
    {
      "cell_type": "code",
      "execution_count": null,
      "metadata": {
        "colab": {
          "base_uri": "https://localhost:8080/"
        },
        "id": "wPpBPm4OKluR",
        "outputId": "7e8c2921-e577-4a2c-d515-ca5d0474bec3"
      },
      "outputs": [
        {
          "data": {
            "text/plain": [
              "titleType\n",
              "tvEpisode       8260949\n",
              "short            995864\n",
              "movie            681499\n",
              "video            292469\n",
              "tvSeries         263691\n",
              "tvMovie          145677\n",
              "tvMiniSeries      54319\n",
              "tvSpecial         47633\n",
              "videoGame         38319\n",
              "tvShort           10315\n",
              "tvPilot               1\n",
              "Name: count, dtype: int64"
            ]
          },
          "execution_count": 61,
          "metadata": {},
          "output_type": "execute_result"
        }
      ],
      "source": [
        "df_title_basics['titleType'].value_counts()"
      ]
    },
    {
      "cell_type": "markdown",
      "source": [
        "## 3️⃣ Nettoyage des valeurs manquantes et incohérences"
      ],
      "metadata": {
        "id": "2GJv-he8iRmx"
      }
    },
    {
      "cell_type": "code",
      "execution_count": null,
      "metadata": {
        "id": "-fj5v6p6bU1X"
      },
      "outputs": [],
      "source": [
        "# Remplacer les valeurs \\N par 'NaN' (pas de valeur)  =>\n",
        "df_title_basics = df_title_basics.replace('\\\\N',np.nan)"
      ]
    },
    {
      "cell_type": "code",
      "execution_count": null,
      "metadata": {
        "id": "i1s8fOZduGUi"
      },
      "outputs": [],
      "source": [
        "# Trouver les valeurs manquantes parmi toutes les colonnes en travaillant sur les lignes\n",
        "df_title_basics = df_title_basics[df_title_basics.isna().any(axis=1)]"
      ]
    },
    {
      "cell_type": "code",
      "execution_count": null,
      "metadata": {
        "colab": {
          "base_uri": "https://localhost:8080/",
          "height": 424
        },
        "id": "ArTl_aBqTx4O",
        "outputId": "a2cc991b-bd6d-4bfb-f3d7-6baa28f89e57"
      },
      "outputs": [
        {
          "data": {
            "text/html": [
              "<div>\n",
              "<style scoped>\n",
              "    .dataframe tbody tr th:only-of-type {\n",
              "        vertical-align: middle;\n",
              "    }\n",
              "\n",
              "    .dataframe tbody tr th {\n",
              "        vertical-align: top;\n",
              "    }\n",
              "\n",
              "    .dataframe thead th {\n",
              "        text-align: right;\n",
              "    }\n",
              "</style>\n",
              "<table border=\"1\" class=\"dataframe\">\n",
              "  <thead>\n",
              "    <tr style=\"text-align: right;\">\n",
              "      <th></th>\n",
              "      <th>tconst</th>\n",
              "      <th>titleType</th>\n",
              "      <th>primaryTitle</th>\n",
              "      <th>originalTitle</th>\n",
              "      <th>isAdult</th>\n",
              "      <th>startYear</th>\n",
              "      <th>endYear</th>\n",
              "      <th>runtimeMinutes</th>\n",
              "      <th>genres</th>\n",
              "    </tr>\n",
              "  </thead>\n",
              "  <tbody>\n",
              "    <tr>\n",
              "      <th>8</th>\n",
              "      <td>tt0000009</td>\n",
              "      <td>movie</td>\n",
              "      <td>Miss Jerry</td>\n",
              "      <td>Miss Jerry</td>\n",
              "      <td>0</td>\n",
              "      <td>1894</td>\n",
              "      <td>NaN</td>\n",
              "      <td>45</td>\n",
              "      <td>Romance</td>\n",
              "    </tr>\n",
              "    <tr>\n",
              "      <th>570</th>\n",
              "      <td>tt0000574</td>\n",
              "      <td>movie</td>\n",
              "      <td>The Story of the Kelly Gang</td>\n",
              "      <td>The Story of the Kelly Gang</td>\n",
              "      <td>0</td>\n",
              "      <td>1906</td>\n",
              "      <td>NaN</td>\n",
              "      <td>70</td>\n",
              "      <td>Action,Adventure,Biography</td>\n",
              "    </tr>\n",
              "    <tr>\n",
              "      <th>587</th>\n",
              "      <td>tt0000591</td>\n",
              "      <td>movie</td>\n",
              "      <td>The Prodigal Son</td>\n",
              "      <td>L'enfant prodigue</td>\n",
              "      <td>0</td>\n",
              "      <td>1907</td>\n",
              "      <td>NaN</td>\n",
              "      <td>90</td>\n",
              "      <td>Drama</td>\n",
              "    </tr>\n",
              "    <tr>\n",
              "      <th>930</th>\n",
              "      <td>tt0000941</td>\n",
              "      <td>movie</td>\n",
              "      <td>Locura de amor</td>\n",
              "      <td>Locura de amor</td>\n",
              "      <td>0</td>\n",
              "      <td>1909</td>\n",
              "      <td>NaN</td>\n",
              "      <td>45</td>\n",
              "      <td>Drama</td>\n",
              "    </tr>\n",
              "    <tr>\n",
              "      <th>1172</th>\n",
              "      <td>tt0001184</td>\n",
              "      <td>movie</td>\n",
              "      <td>Don Juan de Serrallonga</td>\n",
              "      <td>Don Juan de Serrallonga</td>\n",
              "      <td>0</td>\n",
              "      <td>1910</td>\n",
              "      <td>NaN</td>\n",
              "      <td>58</td>\n",
              "      <td>Adventure,Drama</td>\n",
              "    </tr>\n",
              "    <tr>\n",
              "      <th>...</th>\n",
              "      <td>...</td>\n",
              "      <td>...</td>\n",
              "      <td>...</td>\n",
              "      <td>...</td>\n",
              "      <td>...</td>\n",
              "      <td>...</td>\n",
              "      <td>...</td>\n",
              "      <td>...</td>\n",
              "      <td>...</td>\n",
              "    </tr>\n",
              "    <tr>\n",
              "      <th>10790418</th>\n",
              "      <td>tt9916190</td>\n",
              "      <td>movie</td>\n",
              "      <td>Safeguard</td>\n",
              "      <td>Safeguard</td>\n",
              "      <td>0</td>\n",
              "      <td>2020</td>\n",
              "      <td>NaN</td>\n",
              "      <td>95</td>\n",
              "      <td>Action,Adventure,Thriller</td>\n",
              "    </tr>\n",
              "    <tr>\n",
              "      <th>10790457</th>\n",
              "      <td>tt9916270</td>\n",
              "      <td>movie</td>\n",
              "      <td>Il talento del calabrone</td>\n",
              "      <td>Il talento del calabrone</td>\n",
              "      <td>0</td>\n",
              "      <td>2020</td>\n",
              "      <td>NaN</td>\n",
              "      <td>84</td>\n",
              "      <td>Thriller</td>\n",
              "    </tr>\n",
              "    <tr>\n",
              "      <th>10790502</th>\n",
              "      <td>tt9916362</td>\n",
              "      <td>movie</td>\n",
              "      <td>Coven</td>\n",
              "      <td>Akelarre</td>\n",
              "      <td>0</td>\n",
              "      <td>2020</td>\n",
              "      <td>NaN</td>\n",
              "      <td>92</td>\n",
              "      <td>Drama,History</td>\n",
              "    </tr>\n",
              "    <tr>\n",
              "      <th>10790627</th>\n",
              "      <td>tt9916622</td>\n",
              "      <td>movie</td>\n",
              "      <td>Rodolpho Teóphilo - O Legado de um Pioneiro</td>\n",
              "      <td>Rodolpho Teóphilo - O Legado de um Pioneiro</td>\n",
              "      <td>0</td>\n",
              "      <td>2015</td>\n",
              "      <td>NaN</td>\n",
              "      <td>57</td>\n",
              "      <td>Documentary</td>\n",
              "    </tr>\n",
              "    <tr>\n",
              "      <th>10790686</th>\n",
              "      <td>tt9916754</td>\n",
              "      <td>movie</td>\n",
              "      <td>Chico Albuquerque - Revelações</td>\n",
              "      <td>Chico Albuquerque - Revelações</td>\n",
              "      <td>0</td>\n",
              "      <td>2013</td>\n",
              "      <td>NaN</td>\n",
              "      <td>49</td>\n",
              "      <td>Documentary</td>\n",
              "    </tr>\n",
              "  </tbody>\n",
              "</table>\n",
              "<p>307793 rows × 9 columns</p>\n",
              "</div>"
            ],
            "text/plain": [
              "             tconst titleType                                 primaryTitle  \\\n",
              "8         tt0000009     movie                                   Miss Jerry   \n",
              "570       tt0000574     movie                  The Story of the Kelly Gang   \n",
              "587       tt0000591     movie                             The Prodigal Son   \n",
              "930       tt0000941     movie                               Locura de amor   \n",
              "1172      tt0001184     movie                      Don Juan de Serrallonga   \n",
              "...             ...       ...                                          ...   \n",
              "10790418  tt9916190     movie                                    Safeguard   \n",
              "10790457  tt9916270     movie                     Il talento del calabrone   \n",
              "10790502  tt9916362     movie                                        Coven   \n",
              "10790627  tt9916622     movie  Rodolpho Teóphilo - O Legado de um Pioneiro   \n",
              "10790686  tt9916754     movie               Chico Albuquerque - Revelações   \n",
              "\n",
              "                                        originalTitle isAdult startYear  \\\n",
              "8                                          Miss Jerry       0      1894   \n",
              "570                       The Story of the Kelly Gang       0      1906   \n",
              "587                                 L'enfant prodigue       0      1907   \n",
              "930                                    Locura de amor       0      1909   \n",
              "1172                          Don Juan de Serrallonga       0      1910   \n",
              "...                                               ...     ...       ...   \n",
              "10790418                                    Safeguard       0      2020   \n",
              "10790457                     Il talento del calabrone       0      2020   \n",
              "10790502                                     Akelarre       0      2020   \n",
              "10790627  Rodolpho Teóphilo - O Legado de um Pioneiro       0      2015   \n",
              "10790686               Chico Albuquerque - Revelações       0      2013   \n",
              "\n",
              "         endYear runtimeMinutes                      genres  \n",
              "8            NaN             45                     Romance  \n",
              "570          NaN             70  Action,Adventure,Biography  \n",
              "587          NaN             90                       Drama  \n",
              "930          NaN             45                       Drama  \n",
              "1172         NaN             58             Adventure,Drama  \n",
              "...          ...            ...                         ...  \n",
              "10790418     NaN             95   Action,Adventure,Thriller  \n",
              "10790457     NaN             84                    Thriller  \n",
              "10790502     NaN             92               Drama,History  \n",
              "10790627     NaN             57                 Documentary  \n",
              "10790686     NaN             49                 Documentary  \n",
              "\n",
              "[307793 rows x 9 columns]"
            ]
          },
          "execution_count": 65,
          "metadata": {},
          "output_type": "execute_result"
        }
      ],
      "source": [
        "# Premier NETTOYAGE de dataset en enlevant les informations inutiles pour diminuer la DF:\n",
        "# - on garde que les \"movie\"\n",
        "# - on garde que les \"isAdult\" = 0\n",
        "# - on garde que la durée \"runtimeMinutes\"> 40\n",
        "\n",
        "df_title_basics = df_title_basics[(df_title_basics['titleType'] == \"movie\") & (df_title_basics['isAdult'] == '0') & (df_title_basics['runtimeMinutes'] > '40')]\n",
        "df_title_basics"
      ]
    },
    {
      "cell_type": "code",
      "execution_count": null,
      "metadata": {
        "colab": {
          "base_uri": "https://localhost:8080/",
          "height": 159
        },
        "id": "CZyWYi1lClCj",
        "outputId": "f6f2f572-934c-48d6-a18d-f1f29e9ecbb9"
      },
      "outputs": [
        {
          "name": "stdout",
          "output_type": "stream",
          "text": [
            "<class 'pandas.core.frame.DataFrame'>\n",
            "Index: 307793 entries, 8 to 10790686\n",
            "Data columns (total 9 columns):\n",
            " #   Column          Non-Null Count   Dtype \n",
            "---  ------          --------------   ----- \n",
            " 0   tconst          307793 non-null  object\n",
            " 1   titleType       307793 non-null  object\n",
            " 2   primaryTitle    307792 non-null  object\n",
            " 3   originalTitle   307792 non-null  object\n",
            " 4   isAdult         307793 non-null  object\n",
            " 5   startYear       302919 non-null  object\n",
            " 6   endYear         0 non-null       object\n",
            " 7   runtimeMinutes  307793 non-null  object\n",
            " 8   genres          287772 non-null  object\n",
            "dtypes: object(9)\n",
            "memory usage: 23.5+ MB\n"
          ]
        }
      ],
      "source": [
        "# Ino sur DataFrame après traitement :\n",
        "df_title_basics.info()"
      ]
    },
    {
      "cell_type": "code",
      "execution_count": null,
      "metadata": {
        "colab": {
          "base_uri": "https://localhost:8080/"
        },
        "id": "zHqDht2VHo18",
        "outputId": "2881f674-cce9-4a37-dce9-5a3952c86c84"
      },
      "outputs": [
        {
          "data": {
            "text/plain": [
              "(307793, 9)"
            ]
          },
          "execution_count": 67,
          "metadata": {},
          "output_type": "execute_result"
        }
      ],
      "source": [
        "df_title_basics.shape"
      ]
    },
    {
      "cell_type": "code",
      "execution_count": null,
      "metadata": {
        "colab": {
          "base_uri": "https://localhost:8080/"
        },
        "id": "c8--ep8TMGM7",
        "outputId": "72e00210-37ff-433d-ee9e-3c494e5785a1"
      },
      "outputs": [
        {
          "data": {
            "text/plain": [
              "tconst                 0\n",
              "titleType              0\n",
              "primaryTitle           1\n",
              "originalTitle          1\n",
              "isAdult                0\n",
              "startYear           4874\n",
              "endYear           307793\n",
              "runtimeMinutes         0\n",
              "genres             20021\n",
              "dtype: int64"
            ]
          },
          "execution_count": 68,
          "metadata": {},
          "output_type": "execute_result"
        }
      ],
      "source": [
        "# Trouver les valeurs manquantes parmi toutes les colonnes en travaillant sur les lignes\n",
        "df_title_basics.isna().sum()"
      ]
    },
    {
      "cell_type": "code",
      "execution_count": null,
      "metadata": {
        "colab": {
          "base_uri": "https://localhost:8080/",
          "height": 53
        },
        "id": "3WsqXJOPUXwQ",
        "outputId": "5514afd3-4fbe-4654-ad16-3ef16f1403a0"
      },
      "outputs": [
        {
          "data": {
            "text/html": [
              "<div>\n",
              "<style scoped>\n",
              "    .dataframe tbody tr th:only-of-type {\n",
              "        vertical-align: middle;\n",
              "    }\n",
              "\n",
              "    .dataframe tbody tr th {\n",
              "        vertical-align: top;\n",
              "    }\n",
              "\n",
              "    .dataframe thead th {\n",
              "        text-align: right;\n",
              "    }\n",
              "</style>\n",
              "<table border=\"1\" class=\"dataframe\">\n",
              "  <thead>\n",
              "    <tr style=\"text-align: right;\">\n",
              "      <th></th>\n",
              "      <th>tconst</th>\n",
              "      <th>titleType</th>\n",
              "      <th>primaryTitle</th>\n",
              "      <th>originalTitle</th>\n",
              "      <th>isAdult</th>\n",
              "      <th>startYear</th>\n",
              "      <th>endYear</th>\n",
              "      <th>runtimeMinutes</th>\n",
              "      <th>genres</th>\n",
              "    </tr>\n",
              "  </thead>\n",
              "  <tbody>\n",
              "  </tbody>\n",
              "</table>\n",
              "</div>"
            ],
            "text/plain": [
              "Empty DataFrame\n",
              "Columns: [tconst, titleType, primaryTitle, originalTitle, isAdult, startYear, endYear, runtimeMinutes, genres]\n",
              "Index: []"
            ]
          },
          "execution_count": 69,
          "metadata": {},
          "output_type": "execute_result"
        }
      ],
      "source": [
        "# on cherche les doublons (s'il y en a): => il n'y a pas\n",
        "duplicated_rows= df_title_basics.duplicated()\n",
        "df_title_basics.loc[duplicated_rows,:]"
      ]
    },
    {
      "cell_type": "code",
      "execution_count": null,
      "metadata": {
        "id": "j173fm_xNebw"
      },
      "outputs": [],
      "source": [
        "# Supprimer la colonnes endYear\n",
        "df_title_basics = df_title_basics.drop(['endYear'], axis=1)"
      ]
    },
    {
      "cell_type": "code",
      "execution_count": null,
      "metadata": {
        "id": "Vs0_wHToSM5f"
      },
      "outputs": [],
      "source": [
        "# Supprimer la colonnes isAdult\n",
        "df_title_basics= df_title_basics.drop(['isAdult'], axis=1)"
      ]
    },
    {
      "cell_type": "code",
      "execution_count": null,
      "metadata": {
        "id": "tHIzBdXiuGUk"
      },
      "outputs": [],
      "source": [
        "# Colonne \"genre\" : Remplacer les valeurs nulles par 'Divers'\n",
        "df_title_basics = df_title_basics.fillna({'genres': 'Divers'})"
      ]
    },
    {
      "cell_type": "code",
      "execution_count": null,
      "metadata": {
        "id": "L38tPnkbVluk",
        "outputId": "78979384-4866-47dc-8e15-938d2a87f5f6"
      },
      "outputs": [
        {
          "data": {
            "text/plain": [
              "tconst               0\n",
              "titleType            0\n",
              "primaryTitle         1\n",
              "originalTitle        1\n",
              "startYear         4874\n",
              "runtimeMinutes       0\n",
              "genres               0\n",
              "dtype: int64"
            ]
          },
          "execution_count": 75,
          "metadata": {},
          "output_type": "execute_result"
        }
      ],
      "source": [
        "df_title_basics.isna().sum()"
      ]
    },
    {
      "cell_type": "code",
      "execution_count": null,
      "metadata": {
        "id": "XVnEmGu0uGUk"
      },
      "outputs": [],
      "source": [
        "# on supprime les lignes restantes (notamment \"startYaer\") avec les valeurs manquantes:\n",
        "df_title_basics.dropna(inplace=True)"
      ]
    },
    {
      "cell_type": "code",
      "execution_count": null,
      "metadata": {
        "id": "iqbSW9N2uGUk",
        "outputId": "1fd90c4d-133b-45c1-e162-87344d3b97e9"
      },
      "outputs": [
        {
          "data": {
            "text/plain": [
              "tconst            0\n",
              "titleType         0\n",
              "primaryTitle      0\n",
              "originalTitle     0\n",
              "startYear         0\n",
              "runtimeMinutes    0\n",
              "genres            0\n",
              "dtype: int64"
            ]
          },
          "execution_count": 83,
          "metadata": {},
          "output_type": "execute_result"
        }
      ],
      "source": [
        "df_title_basics.isna().sum()"
      ]
    },
    {
      "cell_type": "markdown",
      "source": [
        "## Résumé final"
      ],
      "metadata": {
        "id": "HvValxGGjfMT"
      }
    },
    {
      "cell_type": "code",
      "execution_count": null,
      "metadata": {
        "id": "s95RSAiFuGUl",
        "outputId": "99c5b5b2-36e7-4583-8b2d-ee37f910bf8d"
      },
      "outputs": [
        {
          "data": {
            "text/html": [
              "<div>\n",
              "<style scoped>\n",
              "    .dataframe tbody tr th:only-of-type {\n",
              "        vertical-align: middle;\n",
              "    }\n",
              "\n",
              "    .dataframe tbody tr th {\n",
              "        vertical-align: top;\n",
              "    }\n",
              "\n",
              "    .dataframe thead th {\n",
              "        text-align: right;\n",
              "    }\n",
              "</style>\n",
              "<table border=\"1\" class=\"dataframe\">\n",
              "  <thead>\n",
              "    <tr style=\"text-align: right;\">\n",
              "      <th></th>\n",
              "      <th>tconst</th>\n",
              "      <th>titleType</th>\n",
              "      <th>primaryTitle</th>\n",
              "      <th>originalTitle</th>\n",
              "      <th>startYear</th>\n",
              "      <th>runtimeMinutes</th>\n",
              "      <th>genres</th>\n",
              "    </tr>\n",
              "  </thead>\n",
              "  <tbody>\n",
              "    <tr>\n",
              "      <th>8</th>\n",
              "      <td>tt0000009</td>\n",
              "      <td>movie</td>\n",
              "      <td>Miss Jerry</td>\n",
              "      <td>Miss Jerry</td>\n",
              "      <td>1894</td>\n",
              "      <td>45</td>\n",
              "      <td>Romance</td>\n",
              "    </tr>\n",
              "    <tr>\n",
              "      <th>570</th>\n",
              "      <td>tt0000574</td>\n",
              "      <td>movie</td>\n",
              "      <td>The Story of the Kelly Gang</td>\n",
              "      <td>The Story of the Kelly Gang</td>\n",
              "      <td>1906</td>\n",
              "      <td>70</td>\n",
              "      <td>Action,Adventure,Biography</td>\n",
              "    </tr>\n",
              "    <tr>\n",
              "      <th>587</th>\n",
              "      <td>tt0000591</td>\n",
              "      <td>movie</td>\n",
              "      <td>The Prodigal Son</td>\n",
              "      <td>L'enfant prodigue</td>\n",
              "      <td>1907</td>\n",
              "      <td>90</td>\n",
              "      <td>Drama</td>\n",
              "    </tr>\n",
              "    <tr>\n",
              "      <th>930</th>\n",
              "      <td>tt0000941</td>\n",
              "      <td>movie</td>\n",
              "      <td>Locura de amor</td>\n",
              "      <td>Locura de amor</td>\n",
              "      <td>1909</td>\n",
              "      <td>45</td>\n",
              "      <td>Drama</td>\n",
              "    </tr>\n",
              "    <tr>\n",
              "      <th>1172</th>\n",
              "      <td>tt0001184</td>\n",
              "      <td>movie</td>\n",
              "      <td>Don Juan de Serrallonga</td>\n",
              "      <td>Don Juan de Serrallonga</td>\n",
              "      <td>1910</td>\n",
              "      <td>58</td>\n",
              "      <td>Adventure,Drama</td>\n",
              "    </tr>\n",
              "    <tr>\n",
              "      <th>...</th>\n",
              "      <td>...</td>\n",
              "      <td>...</td>\n",
              "      <td>...</td>\n",
              "      <td>...</td>\n",
              "      <td>...</td>\n",
              "      <td>...</td>\n",
              "      <td>...</td>\n",
              "    </tr>\n",
              "    <tr>\n",
              "      <th>10790418</th>\n",
              "      <td>tt9916190</td>\n",
              "      <td>movie</td>\n",
              "      <td>Safeguard</td>\n",
              "      <td>Safeguard</td>\n",
              "      <td>2020</td>\n",
              "      <td>95</td>\n",
              "      <td>Action,Adventure,Thriller</td>\n",
              "    </tr>\n",
              "    <tr>\n",
              "      <th>10790457</th>\n",
              "      <td>tt9916270</td>\n",
              "      <td>movie</td>\n",
              "      <td>Il talento del calabrone</td>\n",
              "      <td>Il talento del calabrone</td>\n",
              "      <td>2020</td>\n",
              "      <td>84</td>\n",
              "      <td>Thriller</td>\n",
              "    </tr>\n",
              "    <tr>\n",
              "      <th>10790502</th>\n",
              "      <td>tt9916362</td>\n",
              "      <td>movie</td>\n",
              "      <td>Coven</td>\n",
              "      <td>Akelarre</td>\n",
              "      <td>2020</td>\n",
              "      <td>92</td>\n",
              "      <td>Drama,History</td>\n",
              "    </tr>\n",
              "    <tr>\n",
              "      <th>10790627</th>\n",
              "      <td>tt9916622</td>\n",
              "      <td>movie</td>\n",
              "      <td>Rodolpho Teóphilo - O Legado de um Pioneiro</td>\n",
              "      <td>Rodolpho Teóphilo - O Legado de um Pioneiro</td>\n",
              "      <td>2015</td>\n",
              "      <td>57</td>\n",
              "      <td>Documentary</td>\n",
              "    </tr>\n",
              "    <tr>\n",
              "      <th>10790686</th>\n",
              "      <td>tt9916754</td>\n",
              "      <td>movie</td>\n",
              "      <td>Chico Albuquerque - Revelações</td>\n",
              "      <td>Chico Albuquerque - Revelações</td>\n",
              "      <td>2013</td>\n",
              "      <td>49</td>\n",
              "      <td>Documentary</td>\n",
              "    </tr>\n",
              "  </tbody>\n",
              "</table>\n",
              "<p>302918 rows × 7 columns</p>\n",
              "</div>"
            ],
            "text/plain": [
              "             tconst titleType                                 primaryTitle  \\\n",
              "8         tt0000009     movie                                   Miss Jerry   \n",
              "570       tt0000574     movie                  The Story of the Kelly Gang   \n",
              "587       tt0000591     movie                             The Prodigal Son   \n",
              "930       tt0000941     movie                               Locura de amor   \n",
              "1172      tt0001184     movie                      Don Juan de Serrallonga   \n",
              "...             ...       ...                                          ...   \n",
              "10790418  tt9916190     movie                                    Safeguard   \n",
              "10790457  tt9916270     movie                     Il talento del calabrone   \n",
              "10790502  tt9916362     movie                                        Coven   \n",
              "10790627  tt9916622     movie  Rodolpho Teóphilo - O Legado de um Pioneiro   \n",
              "10790686  tt9916754     movie               Chico Albuquerque - Revelações   \n",
              "\n",
              "                                        originalTitle startYear  \\\n",
              "8                                          Miss Jerry      1894   \n",
              "570                       The Story of the Kelly Gang      1906   \n",
              "587                                 L'enfant prodigue      1907   \n",
              "930                                    Locura de amor      1909   \n",
              "1172                          Don Juan de Serrallonga      1910   \n",
              "...                                               ...       ...   \n",
              "10790418                                    Safeguard      2020   \n",
              "10790457                     Il talento del calabrone      2020   \n",
              "10790502                                     Akelarre      2020   \n",
              "10790627  Rodolpho Teóphilo - O Legado de um Pioneiro      2015   \n",
              "10790686               Chico Albuquerque - Revelações      2013   \n",
              "\n",
              "         runtimeMinutes                      genres  \n",
              "8                    45                     Romance  \n",
              "570                  70  Action,Adventure,Biography  \n",
              "587                  90                       Drama  \n",
              "930                  45                       Drama  \n",
              "1172                 58             Adventure,Drama  \n",
              "...                 ...                         ...  \n",
              "10790418             95   Action,Adventure,Thriller  \n",
              "10790457             84                    Thriller  \n",
              "10790502             92               Drama,History  \n",
              "10790627             57                 Documentary  \n",
              "10790686             49                 Documentary  \n",
              "\n",
              "[302918 rows x 7 columns]"
            ]
          },
          "execution_count": 84,
          "metadata": {},
          "output_type": "execute_result"
        }
      ],
      "source": [
        "df_title_basics_clean = df_title_basics\n",
        "df_title_basics_clean"
      ]
    }
  ],
  "metadata": {
    "colab": {
      "provenance": []
    },
    "kernelspec": {
      "display_name": "Python 3 (ipykernel)",
      "language": "python",
      "name": "python3"
    },
    "language_info": {
      "codemirror_mode": {
        "name": "ipython",
        "version": 3
      },
      "file_extension": ".py",
      "mimetype": "text/x-python",
      "name": "python",
      "nbconvert_exporter": "python",
      "pygments_lexer": "ipython3",
      "version": "3.11.5"
    }
  },
  "nbformat": 4,
  "nbformat_minor": 0
}